{
 "cells": [
  {
   "cell_type": "code",
   "execution_count": 49,
   "metadata": {},
   "outputs": [
    {
     "name": "stdout",
     "output_type": "stream",
     "text": [
      "80 85\n"
     ]
    }
   ],
   "source": [
    "list1=[80,85,86,87,100]\n",
    "list2=[2,60,69,70,86]\n",
    "n=len(arr1)+len(arr2)\n",
    "list3=[None]*(n)\n",
    "i=0\n",
    "j=0\n",
    "\n",
    "for k in range(0,int(n/2)+1):\n",
    "    if (j<n/2 and i<n/2):\n",
    "        if(list1[i]<list2[j]):\n",
    "            list3[k]=list1[i]\n",
    "            i=i+1\n",
    "        else:\n",
    "            list3[k]=list2[j]\n",
    "            j=j+1\n",
    "    else:\n",
    "        if(i<j):\n",
    "            list3[k]=list1[i]\n",
    "        else:\n",
    "            list3[k]=list2[j]\n",
    "\n",
    "print(list3[int(n/2)-1],list3[int(n/2)])    \n",
    "#running time will be O(n)\n"
   ]
  }
 ],
 "metadata": {
  "kernelspec": {
   "display_name": "Python 3",
   "language": "python",
   "name": "python3"
  },
  "language_info": {
   "codemirror_mode": {
    "name": "ipython",
    "version": 3
   },
   "file_extension": ".py",
   "mimetype": "text/x-python",
   "name": "python",
   "nbconvert_exporter": "python",
   "pygments_lexer": "ipython3",
   "version": "3.7.4"
  }
 },
 "nbformat": 4,
 "nbformat_minor": 2
}

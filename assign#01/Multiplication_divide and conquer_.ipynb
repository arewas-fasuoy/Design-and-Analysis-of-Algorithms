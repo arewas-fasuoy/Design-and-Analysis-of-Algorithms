{
 "cells": [
  {
   "cell_type": "code",
   "execution_count": 79,
   "metadata": {},
   "outputs": [
    {
     "name": "stdout",
     "output_type": "stream",
     "text": [
      "Enter the first number: 1234\n",
      "Enter the second number: 5678\n",
      "num1_a:  12\n",
      "num1_b:  34 \n",
      "\n",
      "num2_a:  56\n",
      "num2_b:  78 \n",
      "\n",
      "Product:  7006652.0\n"
     ]
    }
   ],
   "source": [
    "#multiplication using divide and conquer algorithm \n",
    "\n",
    "n = 0\n",
    "num1= input(\"Enter the first number: \")\n",
    "num2= input(\"Enter the second number: \")\n",
    "\n",
    "#making both numbers of equal length\n",
    "if(len(num1)<len(num2)):\n",
    "    for i in range(len(num2)-len(num1)):\n",
    "        num1='0'+num1\n",
    "elif(len(num2)<len(num1)):\n",
    "    for i in range(len(num1)-len(num2)):\n",
    "        num2='0'+num2\n",
    "        \n",
    "#counting number of digits in number\n",
    "for i in range(1,len(num1)+1):\n",
    "    n=i\n",
    "\n",
    "#making both numbers of even length\n",
    "if(n%2!=0):\n",
    "    num1='0'+num1\n",
    "    num2='0'+num2\n",
    "    n+=1\n",
    "\n",
    "num1_a=\"\"\n",
    "num1_b=\"\"\n",
    "num2_a=\"\"\n",
    "num2_b=\"\"\n",
    "j=int(n/2)\n",
    "\n",
    "#spliting both numbers into two parts each\n",
    "for i in range(0,j):\n",
    "    num1_a+=num1[i]\n",
    "    num1_b+=num1[j]\n",
    "    num2_a+=num2[i]\n",
    "    num2_b+=num2[j]\n",
    "    j=j+1\n",
    "\n",
    "    \n",
    "product=0 \n",
    "term1= (int(num1_a)*int(num2_a))*pow(10,n) #multiplying num1_a with num2_a and shifting it \n",
    "term2= (int(num1_a)*int(num2_b)+int(num1_b)*int(num2_a))*pow(10,n/2)\n",
    "term3= int(num1_b)*int(num2_b)\n",
    "product= term1+term2+term3\n",
    "\n",
    "#printing output\n",
    "print(\"num1_a: \",num1_a)\n",
    "print(\"num1_b: \",num1_b,\"\\n\")\n",
    "print(\"num2_a: \",num2_a)\n",
    "print(\"num2_b: \",num2_b,\"\\n\")\n",
    "\n",
    "print(\"Product: \",product)"
   ]
  },
  {
   "cell_type": "code",
   "execution_count": null,
   "metadata": {},
   "outputs": [],
   "source": []
  }
 ],
 "metadata": {
  "kernelspec": {
   "display_name": "Python 3",
   "language": "python",
   "name": "python3"
  },
  "language_info": {
   "codemirror_mode": {
    "name": "ipython",
    "version": 3
   },
   "file_extension": ".py",
   "mimetype": "text/x-python",
   "name": "python",
   "nbconvert_exporter": "python",
   "pygments_lexer": "ipython3",
   "version": "3.7.4"
  }
 },
 "nbformat": 4,
 "nbformat_minor": 2
}
